{
  "nbformat": 4,
  "nbformat_minor": 0,
  "metadata": {
    "colab": {
      "provenance": [],
      "gpuType": "T4"
    },
    "kernelspec": {
      "name": "python3",
      "display_name": "Python 3"
    },
    "language_info": {
      "name": "python"
    },
    "accelerator": "GPU"
  },
  "cells": [
    {
      "cell_type": "code",
      "execution_count": 1,
      "metadata": {
        "collapsed": true,
        "id": "ryilj2LRf6wy"
      },
      "outputs": [],
      "source": [
        "import torch\n",
        "import torch.nn as nn\n",
        "import torch.optim as optim\n",
        "import numpy as np\n",
        "import pandas as pd\n",
        "from torch.utils.data import DataLoader, Dataset\n",
        "from torch.nn.utils.rnn import pad_sequence\n",
        "import requests\n",
        "from bs4 import BeautifulSoup\n"
      ]
    },
    {
      "cell_type": "code",
      "source": [
        "# Reusable function for scraping names by gender\n",
        "def scrape_names(gender):\n",
        "    base_url = \"https://vardai.vlkk.lt/sarasas/\"\n",
        "    keys = ['a', 'b', 'c', 'c-2', 'd', 'e', 'f', 'g', 'h', 'i', 'j', 'k', 'l',\n",
        "            'm', 'n', 'o', 'p', 'r', 's', 's-2', 't', 'u', 'v', 'z', 'z-2']\n",
        "    names = []\n",
        "    gender_class = \"names_list__links--man\" if gender == \"male\" else \"names_list__links--woman\"\n",
        "\n",
        "    for key in keys:\n",
        "        url = f\"{base_url}{key}/\"\n",
        "        response = requests.get(url)\n",
        "        soup = BeautifulSoup(response.text, 'html.parser')\n",
        "        links = soup.find_all('a', class_=f'names_list__links {gender_class}')\n",
        "        names += [name.text for name in links]\n",
        "    return names\n",
        "\n",
        "# Scraping Male Names\n",
        "male_names = scrape_names(\"male\")\n",
        "np.savetxt('male_names.txt', male_names, fmt='%s', header='name', comments='', newline='\\n')\n",
        "\n",
        "# Scraping Female Names\n",
        "female_names = scrape_names(\"female\")\n",
        "np.savetxt('female_names.txt', female_names, fmt='%s', header='name', comments='', newline='\\n')\n"
      ],
      "metadata": {
        "id": "McrNtNZa3jR-"
      },
      "execution_count": 2,
      "outputs": []
    },
    {
      "cell_type": "code",
      "source": [
        "class NameDataset(Dataset):\n",
        "    def __init__(self, csv_file):\n",
        "        self.names = pd.read_csv(csv_file, skiprows=1, header=None)[0].values\n",
        "        self.chars = sorted(list(set(''.join(self.names) + ' ')))  # Include padding character\n",
        "        self.char_to_int = {c: i for i, c in enumerate(self.chars)}\n",
        "        self.int_to_char = {i: c for c, i in self.char_to_int.items()}\n",
        "        self.vocab_size = len(self.chars)\n",
        "\n",
        "    def __len__(self):\n",
        "        return len(self.names)\n",
        "\n",
        "    def __getitem__(self, idx):\n",
        "        name = self.names[idx] + ' '  # Add padding character at the end\n",
        "        encoded_name = [self.char_to_int[char] for char in name]\n",
        "        return torch.tensor(encoded_name)\n"
      ],
      "metadata": {
        "id": "i2j8n_k23jUK"
      },
      "execution_count": 3,
      "outputs": []
    },
    {
      "cell_type": "code",
      "source": [
        "# Positional Encoding\n",
        "def positional_encoding(seq_len, embed_dim):\n",
        "    position = torch.arange(seq_len).unsqueeze(1)\n",
        "    div_term = torch.exp(torch.arange(0, embed_dim, 2) * -(torch.log(torch.tensor(10000.0)) / embed_dim))\n",
        "    pe = torch.zeros(seq_len, embed_dim)\n",
        "    pe[:, 0::2] = torch.sin(position * div_term)\n",
        "    pe[:, 1::2] = torch.cos(position * div_term)\n",
        "    return pe.unsqueeze(0)\n",
        "\n",
        "# Custom Collate Function for Padding\n",
        "def pad_collate(batch):\n",
        "    padded_seqs = pad_sequence(batch, batch_first=True, padding_value=0)\n",
        "    input_seq = padded_seqs[:, :-1]\n",
        "    target_seq = padded_seqs[:, 1:]\n",
        "    return input_seq, target_seq\n"
      ],
      "metadata": {
        "id": "ApclW3yn3jWX"
      },
      "execution_count": 4,
      "outputs": []
    },
    {
      "cell_type": "code",
      "source": [
        "class MinimalTransformer(nn.Module):\n",
        "    def __init__(self, vocab_size, embed_size, num_heads):\n",
        "        super(MinimalTransformer, self).__init__()\n",
        "        self.embed = nn.Embedding(vocab_size, embed_size)\n",
        "        self.positional_encoding = nn.Parameter(positional_encoding(100, embed_size))\n",
        "        self.encoder_layer = nn.TransformerEncoderLayer(d_model=embed_size, nhead=num_heads)\n",
        "        self.transformer_encoder = nn.TransformerEncoder(self.encoder_layer, num_layers=1)\n",
        "        self.output_layer = nn.Linear(embed_size, vocab_size)\n",
        "\n",
        "    def forward(self, x):\n",
        "        x = self.embed(x) + self.positional_encoding[:, :x.size(1), :]\n",
        "        x = self.transformer_encoder(x)\n",
        "        x = self.output_layer(x)\n",
        "        return x\n"
      ],
      "metadata": {
        "id": "aLPC0NHp3jYb"
      },
      "execution_count": 5,
      "outputs": []
    },
    {
      "cell_type": "code",
      "source": [
        "def train_model(model, dataloader, epochs=10):\n",
        "    criterion = nn.CrossEntropyLoss()\n",
        "    optimizer = optim.Adam(model.parameters())\n",
        "\n",
        "    for epoch in range(epochs):\n",
        "        model.train()\n",
        "        total_loss = 0.0\n",
        "\n",
        "        for input_seq, target_seq in dataloader:\n",
        "            optimizer.zero_grad()\n",
        "            output = model(input_seq)\n",
        "            loss = criterion(output.transpose(1, 2), target_seq)\n",
        "            loss.backward()\n",
        "            optimizer.step()\n",
        "            total_loss += loss.item()\n",
        "\n",
        "        average_loss = total_loss / len(dataloader)\n",
        "        print(f\"Epoch {epoch+1}, Average Loss: {average_loss}\")\n"
      ],
      "metadata": {
        "id": "ZeZrR96AZt_V"
      },
      "execution_count": 6,
      "outputs": []
    },
    {
      "cell_type": "code",
      "source": [
        "def sample_with_temperature(model, dataset, start_str='a', max_length=20, k=5, temperature=1.0):\n",
        "    assert temperature > 0, \"Temperature must be greater than 0\"\n",
        "    model.eval()\n",
        "    with torch.no_grad():\n",
        "        input_seq = torch.tensor([dataset.char_to_int[c] for c in start_str]).unsqueeze(0)\n",
        "        output_name = start_str\n",
        "        for _ in range(max_length - len(start_str)):\n",
        "            output = model(input_seq)\n",
        "            logits = output[0, -1] / temperature\n",
        "            top_k_probs, top_k_indices = torch.topk(torch.softmax(logits, dim=0), k)\n",
        "            next_char_idx = top_k_indices[torch.multinomial(top_k_probs, 1).item()].item()\n",
        "            next_char = dataset.int_to_char[next_char_idx]\n",
        "            if next_char == ' ':\n",
        "                break\n",
        "            output_name += next_char\n",
        "            input_seq = torch.cat([input_seq, torch.tensor([[next_char_idx]])], dim=1)\n",
        "        return output_name\n"
      ],
      "metadata": {
        "id": "5CqkSrPc3jak"
      },
      "execution_count": 7,
      "outputs": []
    },
    {
      "cell_type": "code",
      "source": [
        "# Constants\n",
        "BATCH_SIZE = 32\n",
        "EMBED_SIZE = 128\n",
        "NUM_HEADS = 8\n",
        "EPOCHS = 10\n",
        "\n",
        "# Male Names Model\n",
        "male_dataset = NameDataset('male_names.txt')\n",
        "male_dataloader = DataLoader(male_dataset, batch_size=BATCH_SIZE, shuffle=True, collate_fn=pad_collate)\n",
        "male_model = MinimalTransformer(vocab_size=male_dataset.vocab_size, embed_size=EMBED_SIZE, num_heads=NUM_HEADS)\n",
        "print(\"\\nTraining Male Names Model:\")\n",
        "train_model(male_model, male_dataloader, epochs=EPOCHS)\n",
        "\n",
        "# Save the male model\n",
        "torch.save(male_model.state_dict(), 'male_model.pth')  # Save the model to a file\n",
        "print(\"Male model saved to 'male_model.pth'.\")\n",
        "\n",
        "# Female Names Model\n",
        "female_dataset = NameDataset('female_names.txt')\n",
        "female_dataloader = DataLoader(female_dataset, batch_size=BATCH_SIZE, shuffle=True, collate_fn=pad_collate)\n",
        "female_model = MinimalTransformer(vocab_size=female_dataset.vocab_size, embed_size=EMBED_SIZE, num_heads=NUM_HEADS)\n",
        "print(\"\\nTraining Female Names Model:\")\n",
        "train_model(female_model, female_dataloader, epochs=EPOCHS)\n",
        "\n",
        "# Save the female model\n",
        "torch.save(female_model.state_dict(), 'female_model.pth')  # Save the model to a file\n",
        "print(\"Female model saved to 'female_model.pth'.\")\n",
        "\n",
        "# Generating Names\n",
        "print(\"\\nGenerated Male Names:\")\n",
        "for _ in range(10):\n",
        "    print(' ', sample_with_temperature(male_model, male_dataset, start_str='J', k=5, temperature=0.5))\n",
        "\n",
        "print(\"\\nGenerated Female Names:\")\n",
        "for _ in range(10):\n",
        "    print(' ', sample_with_temperature(female_model, female_dataset, start_str='A', k=5, temperature=1.5))\n"
      ],
      "metadata": {
        "colab": {
          "base_uri": "https://localhost:8080/"
        },
        "id": "fs36iQXiXM3K",
        "outputId": "d977d19e-212e-43c4-fca7-9e7f547b5090"
      },
      "execution_count": 8,
      "outputs": [
        {
          "output_type": "stream",
          "name": "stderr",
          "text": [
            "/usr/local/lib/python3.10/dist-packages/torch/nn/modules/transformer.py:379: UserWarning: enable_nested_tensor is True, but self.use_nested_tensor is False because encoder_layer.self_attn.batch_first was not True(use batch_first for better inference performance)\n",
            "  warnings.warn(\n"
          ]
        },
        {
          "output_type": "stream",
          "name": "stdout",
          "text": [
            "\n",
            "Training Male Names Model:\n",
            "Epoch 1, Average Loss: 1.5118767683171044\n",
            "Epoch 2, Average Loss: 1.2992590981081498\n",
            "Epoch 3, Average Loss: 1.2749837912803839\n",
            "Epoch 4, Average Loss: 1.2634346682178088\n",
            "Epoch 5, Average Loss: 1.2510285948918871\n",
            "Epoch 6, Average Loss: 1.23880322363751\n",
            "Epoch 7, Average Loss: 1.2309152410050068\n",
            "Epoch 8, Average Loss: 1.2416655470517055\n",
            "Epoch 9, Average Loss: 1.236704075139416\n",
            "Epoch 10, Average Loss: 1.2293273387861645\n",
            "Male model saved to 'male_model.pth'.\n",
            "\n",
            "Training Female Names Model:\n"
          ]
        },
        {
          "output_type": "stream",
          "name": "stderr",
          "text": [
            "/usr/local/lib/python3.10/dist-packages/torch/nn/modules/transformer.py:379: UserWarning: enable_nested_tensor is True, but self.use_nested_tensor is False because encoder_layer.self_attn.batch_first was not True(use batch_first for better inference performance)\n",
            "  warnings.warn(\n"
          ]
        },
        {
          "output_type": "stream",
          "name": "stdout",
          "text": [
            "Epoch 1, Average Loss: 1.585599857165401\n",
            "Epoch 2, Average Loss: 1.3885576940120612\n",
            "Epoch 3, Average Loss: 1.3629664720449233\n",
            "Epoch 4, Average Loss: 1.3569482080918505\n",
            "Epoch 5, Average Loss: 1.3469431463040804\n",
            "Epoch 6, Average Loss: 1.338192215539459\n",
            "Epoch 7, Average Loss: 1.326738905637784\n",
            "Epoch 8, Average Loss: 1.3382708873963893\n",
            "Epoch 9, Average Loss: 1.321146341642939\n",
            "Epoch 10, Average Loss: 1.3212976850065075\n",
            "Female model saved to 'female_model.pth'.\n",
            "\n",
            "Generated Male Names:\n",
            "  Jòlfas\n",
            "  Jẽvintas\n",
            "  Jónis\n",
            "  Járas\n",
            "  Jógas\n",
            "  Jãtanas\n",
            "  Jònis\n",
            "  Jãvis\n",
            "  Justartas\n",
            "  Jòlis\n",
            "\n",
            "Generated Female Names:\n",
            "  Ararintė\n",
            "  Aile\n",
            "  Alènautava\n",
            "  Aidàlijavyniara\n",
            "  Airtanė\n",
            "  Andrìrė\n",
            "  Aìnenttė\n",
            "  Al̃nija\n",
            "  Austa\n",
            "  Aidìlė\n"
          ]
        }
      ]
    }
  ]
}